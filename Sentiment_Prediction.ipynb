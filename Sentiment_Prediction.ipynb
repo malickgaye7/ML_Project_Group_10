{
  "cells": [
    {
      "cell_type": "code",
      "execution_count": 19,
      "metadata": {
        "colab": {
          "base_uri": "https://localhost:8080/"
        },
        "id": "Up5QW_eCUozn",
        "outputId": "0b73513a-227e-4792-b6ba-e5d3a57b7a39"
      },
      "outputs": [
        {
          "name": "stdout",
          "output_type": "stream",
          "text": [
            "\u001b[33mDEPRECATION: Configuring installation scheme with distutils config files is deprecated and will no longer work in the near future. If you are using a Homebrew or Linuxbrew Python, please see discussion at https://github.com/Homebrew/homebrew-core/issues/76621\u001b[0m\u001b[33m\n",
            "\u001b[0mRequirement already satisfied: scikit-learn in /usr/local/lib/python3.9/site-packages (1.4.2)\n",
            "Requirement already satisfied: joblib>=1.2.0 in /usr/local/lib/python3.9/site-packages (from scikit-learn) (1.4.0)\n",
            "Requirement already satisfied: threadpoolctl>=2.0.0 in /usr/local/lib/python3.9/site-packages (from scikit-learn) (3.4.0)\n",
            "Requirement already satisfied: scipy>=1.6.0 in /usr/local/lib/python3.9/site-packages (from scikit-learn) (1.10.0)\n",
            "Requirement already satisfied: numpy>=1.19.5 in /usr/local/lib/python3.9/site-packages (from scikit-learn) (1.23.4)\n",
            "\u001b[33mDEPRECATION: Configuring installation scheme with distutils config files is deprecated and will no longer work in the near future. If you are using a Homebrew or Linuxbrew Python, please see discussion at https://github.com/Homebrew/homebrew-core/issues/76621\u001b[0m\u001b[33m\n",
            "\u001b[0m\n",
            "\u001b[1m[\u001b[0m\u001b[34;49mnotice\u001b[0m\u001b[1;39;49m]\u001b[0m\u001b[39;49m A new release of pip available: \u001b[0m\u001b[31;49m22.3.1\u001b[0m\u001b[39;49m -> \u001b[0m\u001b[32;49m24.0\u001b[0m\n",
            "\u001b[1m[\u001b[0m\u001b[34;49mnotice\u001b[0m\u001b[1;39;49m]\u001b[0m\u001b[39;49m To update, run: \u001b[0m\u001b[32;49mpython3.9 -m pip install --upgrade pip\u001b[0m\n",
            "\u001b[33mDEPRECATION: Configuring installation scheme with distutils config files is deprecated and will no longer work in the near future. If you are using a Homebrew or Linuxbrew Python, please see discussion at https://github.com/Homebrew/homebrew-core/issues/76621\u001b[0m\u001b[33m\n",
            "\u001b[0mRequirement already satisfied: gensim in /usr/local/lib/python3.9/site-packages (4.3.2)\n",
            "Requirement already satisfied: nltk in /usr/local/lib/python3.9/site-packages (3.8.1)\n",
            "Requirement already satisfied: smart-open>=1.8.1 in /usr/local/lib/python3.9/site-packages (from gensim) (7.0.4)\n",
            "Requirement already satisfied: numpy>=1.18.5 in /usr/local/lib/python3.9/site-packages (from gensim) (1.23.4)\n",
            "Requirement already satisfied: scipy>=1.7.0 in /usr/local/lib/python3.9/site-packages (from gensim) (1.10.0)\n",
            "Requirement already satisfied: click in /usr/local/lib/python3.9/site-packages (from nltk) (8.1.7)\n",
            "Requirement already satisfied: tqdm in /usr/local/lib/python3.9/site-packages (from nltk) (4.64.0)\n",
            "Requirement already satisfied: regex>=2021.8.3 in /usr/local/lib/python3.9/site-packages (from nltk) (2024.4.28)\n",
            "Requirement already satisfied: joblib in /usr/local/lib/python3.9/site-packages (from nltk) (1.4.0)\n",
            "Requirement already satisfied: wrapt in /usr/local/lib/python3.9/site-packages (from smart-open>=1.8.1->gensim) (1.12.1)\n",
            "\u001b[33mDEPRECATION: Configuring installation scheme with distutils config files is deprecated and will no longer work in the near future. If you are using a Homebrew or Linuxbrew Python, please see discussion at https://github.com/Homebrew/homebrew-core/issues/76621\u001b[0m\u001b[33m\n",
            "\u001b[0m\n",
            "\u001b[1m[\u001b[0m\u001b[34;49mnotice\u001b[0m\u001b[1;39;49m]\u001b[0m\u001b[39;49m A new release of pip available: \u001b[0m\u001b[31;49m22.3.1\u001b[0m\u001b[39;49m -> \u001b[0m\u001b[32;49m24.0\u001b[0m\n",
            "\u001b[1m[\u001b[0m\u001b[34;49mnotice\u001b[0m\u001b[1;39;49m]\u001b[0m\u001b[39;49m To update, run: \u001b[0m\u001b[32;49mpython3.9 -m pip install --upgrade pip\u001b[0m\n",
            "\u001b[33mDEPRECATION: Configuring installation scheme with distutils config files is deprecated and will no longer work in the near future. If you are using a Homebrew or Linuxbrew Python, please see discussion at https://github.com/Homebrew/homebrew-core/issues/76621\u001b[0m\u001b[33m\n",
            "\u001b[0mRequirement already satisfied: scikit-learn in /usr/local/lib/python3.9/site-packages (1.4.2)\n",
            "Requirement already satisfied: scipy>=1.6.0 in /usr/local/lib/python3.9/site-packages (from scikit-learn) (1.10.0)\n",
            "Requirement already satisfied: threadpoolctl>=2.0.0 in /usr/local/lib/python3.9/site-packages (from scikit-learn) (3.4.0)\n",
            "Requirement already satisfied: numpy>=1.19.5 in /usr/local/lib/python3.9/site-packages (from scikit-learn) (1.23.4)\n",
            "Requirement already satisfied: joblib>=1.2.0 in /usr/local/lib/python3.9/site-packages (from scikit-learn) (1.4.0)\n",
            "\u001b[33mDEPRECATION: Configuring installation scheme with distutils config files is deprecated and will no longer work in the near future. If you are using a Homebrew or Linuxbrew Python, please see discussion at https://github.com/Homebrew/homebrew-core/issues/76621\u001b[0m\u001b[33m\n",
            "\u001b[0m\n",
            "\u001b[1m[\u001b[0m\u001b[34;49mnotice\u001b[0m\u001b[1;39;49m]\u001b[0m\u001b[39;49m A new release of pip available: \u001b[0m\u001b[31;49m22.3.1\u001b[0m\u001b[39;49m -> \u001b[0m\u001b[32;49m24.0\u001b[0m\n",
            "\u001b[1m[\u001b[0m\u001b[34;49mnotice\u001b[0m\u001b[1;39;49m]\u001b[0m\u001b[39;49m To update, run: \u001b[0m\u001b[32;49mpython3.9 -m pip install --upgrade pip\u001b[0m\n",
            "\u001b[33mDEPRECATION: Configuring installation scheme with distutils config files is deprecated and will no longer work in the near future. If you are using a Homebrew or Linuxbrew Python, please see discussion at https://github.com/Homebrew/homebrew-core/issues/76621\u001b[0m\u001b[33m\n",
            "\u001b[0mRequirement already satisfied: transformers in /usr/local/lib/python3.9/site-packages (4.40.1)\n",
            "Requirement already satisfied: torch in /usr/local/lib/python3.9/site-packages (2.2.2)\n",
            "Requirement already satisfied: filelock in /usr/local/lib/python3.9/site-packages (from transformers) (3.13.3)\n",
            "Requirement already satisfied: packaging>=20.0 in /usr/local/lib/python3.9/site-packages (from transformers) (21.3)\n",
            "Requirement already satisfied: tqdm>=4.27 in /usr/local/lib/python3.9/site-packages (from transformers) (4.64.0)\n",
            "Requirement already satisfied: regex!=2019.12.17 in /usr/local/lib/python3.9/site-packages (from transformers) (2024.4.28)\n",
            "Requirement already satisfied: requests in /usr/local/lib/python3.9/site-packages (from transformers) (2.27.1)\n",
            "Requirement already satisfied: tokenizers<0.20,>=0.19 in /usr/local/lib/python3.9/site-packages (from transformers) (0.19.1)\n",
            "Requirement already satisfied: pyyaml>=5.1 in /usr/local/lib/python3.9/site-packages (from transformers) (6.0.1)\n",
            "Requirement already satisfied: numpy>=1.17 in /usr/local/lib/python3.9/site-packages (from transformers) (1.23.4)\n",
            "Requirement already satisfied: safetensors>=0.4.1 in /usr/local/lib/python3.9/site-packages (from transformers) (0.4.3)\n",
            "Requirement already satisfied: huggingface-hub<1.0,>=0.19.3 in /usr/local/lib/python3.9/site-packages (from transformers) (0.22.2)\n",
            "Requirement already satisfied: typing-extensions>=4.8.0 in /usr/local/lib/python3.9/site-packages (from torch) (4.11.0)\n",
            "Requirement already satisfied: jinja2 in /usr/local/lib/python3.9/site-packages (from torch) (3.1.3)\n",
            "Requirement already satisfied: sympy in /usr/local/lib/python3.9/site-packages (from torch) (1.8)\n",
            "Requirement already satisfied: fsspec in /usr/local/lib/python3.9/site-packages (from torch) (2024.3.1)\n",
            "Requirement already satisfied: networkx in /usr/local/lib/python3.9/site-packages (from torch) (2.8.3)\n",
            "Requirement already satisfied: pyparsing!=3.0.5,>=2.0.2 in /usr/local/lib/python3.9/site-packages (from packaging>=20.0->transformers) (3.0.7)\n",
            "Requirement already satisfied: MarkupSafe>=2.0 in /usr/local/lib/python3.9/site-packages (from jinja2->torch) (2.1.5)\n",
            "Requirement already satisfied: urllib3<1.27,>=1.21.1 in /usr/local/lib/python3.9/site-packages (from requests->transformers) (1.26.8)\n",
            "Requirement already satisfied: certifi>=2017.4.17 in /usr/local/lib/python3.9/site-packages (from requests->transformers) (2021.5.30)\n",
            "Requirement already satisfied: charset-normalizer~=2.0.0 in /usr/local/lib/python3.9/site-packages (from requests->transformers) (2.0.12)\n",
            "Requirement already satisfied: idna<4,>=2.5 in /usr/local/lib/python3.9/site-packages (from requests->transformers) (2.10)\n",
            "Requirement already satisfied: mpmath>=0.19 in /usr/local/lib/python3.9/site-packages (from sympy->torch) (1.2.1)\n",
            "\u001b[33mDEPRECATION: Configuring installation scheme with distutils config files is deprecated and will no longer work in the near future. If you are using a Homebrew or Linuxbrew Python, please see discussion at https://github.com/Homebrew/homebrew-core/issues/76621\u001b[0m\u001b[33m\n",
            "\u001b[0m\n",
            "\u001b[1m[\u001b[0m\u001b[34;49mnotice\u001b[0m\u001b[1;39;49m]\u001b[0m\u001b[39;49m A new release of pip available: \u001b[0m\u001b[31;49m22.3.1\u001b[0m\u001b[39;49m -> \u001b[0m\u001b[32;49m24.0\u001b[0m\n",
            "\u001b[1m[\u001b[0m\u001b[34;49mnotice\u001b[0m\u001b[1;39;49m]\u001b[0m\u001b[39;49m To update, run: \u001b[0m\u001b[32;49mpython3.9 -m pip install --upgrade pip\u001b[0m\n"
          ]
        }
      ],
      "source": [
        "!pip install -U scikit-learn\n",
        "!pip install gensim nltk\n",
        "!pip install scikit-learn\n",
        "!pip install transformers torch"
      ]
    },
    {
      "cell_type": "code",
      "execution_count": 20,
      "metadata": {
        "colab": {
          "base_uri": "https://localhost:8080/"
        },
        "id": "gk7rUSX6r2IL",
        "outputId": "01ed431e-7c7d-4d09-c3f3-e34380147024"
      },
      "outputs": [
        {
          "name": "stderr",
          "output_type": "stream",
          "text": [
            "[nltk_data] Downloading package punkt to\n",
            "[nltk_data]     /Users/malickgaye/nltk_data...\n",
            "[nltk_data]   Package punkt is already up-to-date!\n",
            "[nltk_data] Downloading package stopwords to\n",
            "[nltk_data]     /Users/malickgaye/nltk_data...\n",
            "[nltk_data]   Package stopwords is already up-to-date!\n"
          ]
        }
      ],
      "source": [
        "import os\n",
        "import re\n",
        "from nltk.tokenize import word_tokenize\n",
        "from nltk.corpus import stopwords\n",
        "import nltk\n",
        "nltk.download('punkt')\n",
        "nltk.download('stopwords')\n",
        "import gensim.downloader as api\n",
        "import numpy as np\n",
        "\n",
        "\n",
        "# use pretained word embedding model\n",
        "word2vec = api.load('word2vec-google-news-300')\n"
      ]
    },
    {
      "cell_type": "code",
      "execution_count": 21,
      "metadata": {},
      "outputs": [],
      "source": [
        "import torch.nn as nn\n",
        "import torch.nn.functional as F\n",
        "import torch\n",
        "import torch.optim as optim\n",
        "from transformers import BertTokenizer, BertModel\n",
        "import random"
      ]
    },
    {
      "cell_type": "code",
      "execution_count": 37,
      "metadata": {
        "colab": {
          "base_uri": "https://localhost:8080/"
        },
        "id": "vAjq3h1XQRHO",
        "outputId": "eb095fd7-ca2a-420f-f142-5dd6cbe52742"
      },
      "outputs": [
        {
          "name": "stdout",
          "output_type": "stream",
          "text": [
            "3000 3000\n"
          ]
        }
      ],
      "source": [
        "def load_data_from_files(directory):\n",
        "    texts = []\n",
        "    labels = []\n",
        "    for filename in os.listdir(directory):\n",
        "        if filename.endswith(\".txt\"):\n",
        "            filepath = os.path.join(directory, filename)\n",
        "            with open(filepath, 'r', encoding='utf-8') as file:\n",
        "                for line in file:\n",
        "                    # Split each line into text and label using the tab character '\\t'\n",
        "                    text, label = line.rsplit('\\t', 1)\n",
        "                    texts.append(text)\n",
        "                    labels.append(int(label.strip()))\n",
        "    return texts, labels\n",
        "directory = '/Users/malickgaye/github/machine_learning/sentiment+labelled+sentences/sentiment_labelled_sentences'\n",
        "texts, labels = load_data_from_files(directory)\n",
        "print(len(texts), len(labels))"
      ]
    },
    {
      "cell_type": "code",
      "execution_count": 38,
      "metadata": {},
      "outputs": [
        {
          "data": {
            "text/plain": [
              "'\\ncombined = list(zip(texts, labels))\\nrandom.shuffle(combined)\\ntexts, labels = zip(*combined)\\nsplit_ratio = 0.8 \\nsplit_index = int(len(texts) * split_ratio)\\ntrain_data, test_data = texts[:split_index], texts[split_index:]\\ntrain_labels, test_labels = labels[:split_index], labels[split_index:]\\n'"
            ]
          },
          "execution_count": 38,
          "metadata": {},
          "output_type": "execute_result"
        }
      ],
      "source": [
        "# shuffle and split the dataset\n",
        "'''\n",
        "combined = list(zip(texts, labels))\n",
        "random.shuffle(combined)\n",
        "texts, labels = zip(*combined)\n",
        "split_ratio = 0.8 \n",
        "split_index = int(len(texts) * split_ratio)\n",
        "train_data, test_data = texts[:split_index], texts[split_index:]\n",
        "train_labels, test_labels = labels[:split_index], labels[split_index:]\n",
        "'''"
      ]
    },
    {
      "cell_type": "code",
      "execution_count": 39,
      "metadata": {
        "id": "U_Oodm9IYcu7"
      },
      "outputs": [],
      "source": [
        "def preprocess_text(text):\n",
        "    # Remove special characters\n",
        "    text = re.sub(r'\\W', ' ', text)\n",
        "    # Remove single characters\n",
        "    text = re.sub(r'\\s+[a-zA-Z]\\s+', ' ', text)\n",
        "    # Remove single characters from the start\n",
        "    text = re.sub(r'\\^[a-zA-Z]\\s+', ' ', text)\n",
        "    # Substitute multiple spaces with single space\n",
        "    text = re.sub(r'\\s+', ' ', text, flags=re.I)\n",
        "    # Convert to lowercase\n",
        "    text = text.lower()\n",
        "    return text"
      ]
    },
    {
      "cell_type": "code",
      "execution_count": 40,
      "metadata": {
        "id": "JZ50TkeAYdB_"
      },
      "outputs": [],
      "source": [
        "# clear inexplicable characters and tokenize the sentence\n",
        "texts_clean = [preprocess_text(text) for text in texts]\n",
        "tokens = [word_tokenize(text) for text in texts_clean]"
      ]
    },
    {
      "cell_type": "code",
      "execution_count": null,
      "metadata": {},
      "outputs": [],
      "source": []
    },
    {
      "cell_type": "code",
      "execution_count": 41,
      "metadata": {
        "id": "7K5B6rl2lWU5"
      },
      "outputs": [],
      "source": [
        "# word embedding\n",
        "def embedding_sentence(model, sentence_token, maxSentenceLen = None, padding = False):\n",
        "  vectors = np.array([model[word] for word in sentence_token if word in model.key_to_index])\n",
        "  # guarantee dimension alignment even if vectors is empty\n",
        "  vectors = np.zeros((0, model.vector_size)) if len(vectors) == 0 else vectors\n",
        "  if padding:\n",
        "    pad_num = maxSentenceLen - len(vectors)\n",
        "    zero_rows = np.zeros((pad_num, model.vector_size))\n",
        "    return np.vstack((vectors, zero_rows))\n",
        "  else:\n",
        "    return np.mean(vectors, axis=0) if len(vectors) > 0 else np.zeros(model.vector_size)\n",
        "embedded_sentence = np.array([embedding_sentence(word2vec, sentence_token) for sentence_token in tokens])"
      ]
    },
    {
      "cell_type": "code",
      "execution_count": 42,
      "metadata": {
        "colab": {
          "base_uri": "https://localhost:8080/"
        },
        "id": "1t7kmmAzUHVg",
        "outputId": "70bd9d40-351e-4880-bdc7-173d95a95092"
      },
      "outputs": [
        {
          "name": "stdout",
          "output_type": "stream",
          "text": [
            "2400 600\n"
          ]
        }
      ],
      "source": [
        "from sklearn.model_selection import train_test_split\n",
        "\n",
        "X_train, X_test, y_train, y_test = train_test_split(embedded_sentence, torch.tensor(labels), test_size=0.2, random_state=42)\n",
        "print(len(X_train), len(X_test))\n"
      ]
    },
    {
      "cell_type": "code",
      "execution_count": 43,
      "metadata": {},
      "outputs": [
        {
          "name": "stdout",
          "output_type": "stream",
          "text": [
            "(2400, 300)\n",
            "(2400, 300)\n",
            "Explained variance by the first 3 components: 15.22%\n"
          ]
        },
        {
          "data": {
            "image/png": "[encoded data removed]",
            "text/plain": [
              "<Figure size 432x288 with 1 Axes>"
            ]
          },
          "metadata": {
            "needs_background": "light"
          },
          "output_type": "display_data"
        }
      ],
      "source": [
        "from sklearn.decomposition import PCA\n",
        "import matplotlib.pyplot as plt\n",
        "from mpl_toolkits.mplot3d import Axes3D\n",
        "\n",
        "pca = PCA()\n",
        "print(X_train.shape)\n",
        "X_train_pca =pca.fit_transform(X_train)\n",
        "print(X_train_pca.shape)\n",
        "#plt.scatter(X_train_pca[:, 0], X_train_pca[:, 1], c = y_train, alpha = 0.4)\n",
        "\n",
        "fig = plt.figure()\n",
        "ax = fig.add_subplot(111, projection = '3d')\n",
        "ax.scatter(X_train_pca[:, 0], X_train_pca[:, 1], X_train_pca[:, 2], c = y_train)\n",
        "\n",
        "explained_var_ratio = pca.explained_variance_ratio_\n",
        "cumulative_variance = np.sum(explained_var_ratio[:3])\n",
        "\n",
        "print(\"Explained variance by the first {} components: {:.2f}%\".format(3, cumulative_variance * 100))\n",
        "\n",
        "# attempt to use PCA to reduce dimension\n",
        "# considering the eigenvalue distirbution is quite uniform, this approach doesn't work effectively"
      ]
    },
    {
      "cell_type": "code",
      "execution_count": 44,
      "metadata": {
        "id": "CiQ_18YSt_11"
      },
      "outputs": [],
      "source": [
        "# standardize the data\n",
        "class Standardizer:\n",
        "  def __init__(self, X_train, axis= 0) -> None:\n",
        "    '''\n",
        "    trainX : N * D / N * L * D\n",
        "    '''\n",
        "    self.mean = np.mean(X_train, axis = axis)\n",
        "    self.std = np.std(X_train, axis = axis)\n",
        "\n",
        "  def transform(self, X):\n",
        "    return (X - self.mean) / self.std\n",
        "\n",
        "standardizer = Standardizer(X_train)\n",
        "X_train_sd = standardizer.transform(X_train)\n",
        "X_test_sd = standardizer.transform(X_test)"
      ]
    },
    {
      "cell_type": "code",
      "execution_count": 45,
      "metadata": {
        "id": "s6dPJlU3ssHf"
      },
      "outputs": [],
      "source": [
        "from sklearn.model_selection import KFold\n",
        "from sklearn.base import clone\n",
        "\n",
        "def cross_validation(model, X, y, n_splits = 5):\n",
        "  kf = KFold(n_splits=n_splits, shuffle=True, random_state=42)\n",
        "  train_scores = []\n",
        "  val_scores = []\n",
        "\n",
        "  for train_index, val_index in kf.split(X):\n",
        "    # Clone the model to ensure a fresh model is used for each fold\n",
        "    cloned_model = clone(model)\n",
        "    # Split the data into training and testing sets for the current fold\n",
        "    X_train, X_val = X[train_index], X[val_index]\n",
        "    y_train, y_val = y[train_index], y[val_index]\n",
        "\n",
        "    cloned_model.fit(X_train, y_train)\n",
        "    val_scores.append(cloned_model.score(X_val, y_val))\n",
        "    train_scores.append(cloned_model.score(X_train, y_train))\n",
        "  return np.mean(val_scores)\n",
        "\n",
        "def find_best_model(model_class, validation_func, param_grid, X, y):\n",
        "  best_model, best_param = None, None\n",
        "  best_score = 0\n",
        "  for params in param_grid:\n",
        "    model = model_class(**params)\n",
        "    score = validation_func(model, X, y)\n",
        "    if score > best_score:\n",
        "      best_model = model\n",
        "      best_score = score\n",
        "      best_param = params\n",
        "  return best_model, best_score, best_param\n"
      ]
    },
    {
      "cell_type": "code",
      "execution_count": 46,
      "metadata": {
        "colab": {
          "base_uri": "https://localhost:8080/"
        },
        "id": "MjVl-9wt3Wpu",
        "outputId": "b8888fcc-0c79-4dd4-9547-9921c2fd9cbc"
      },
      "outputs": [
        {
          "name": "stdout",
          "output_type": "stream",
          "text": [
            "best SVC param: {'C': 1.0, 'kernel': 'rbf', 'gamma': 'scale'} validation score: 0.8425 train score: 0.9295833333333333 test score: 0.86\n"
          ]
        }
      ],
      "source": [
        "from sklearn.svm import SVC\n",
        "from sklearn.linear_model import LogisticRegression\n",
        "\n",
        "\n",
        "param_grid = [\n",
        "    {'C': 1.0, 'kernel': 'linear'},\n",
        "    {'C': 5.0, 'kernel': 'linear'},\n",
        "    {'C': 10.0, 'kernel': 'linear'},\n",
        "    {'C': 100.0, 'kernel': 'linear'},\n",
        "    {'C': 1.0, 'kernel': 'rbf', 'gamma': 'scale'},\n",
        "    {'C': 10.0, 'kernel': 'rbf', 'gamma': 'scale'}, \n",
        "    {'C': 100.0, 'kernel': 'rbf', 'gamma': 'auto'}, \n",
        "]\n",
        "svm_model, val_score, best_param = find_best_model(SVC, cross_validation, param_grid, X_train, y_train)\n",
        "svm_model.fit(X_train_sd, y_train)\n",
        "print(\"best SVC param:\", best_param,\n",
        "    \"validation score:\", val_score,\n",
        "      \"train score:\", svm_model.score(X_train_sd, y_train),\n",
        "      \"test score:\", svm_model.score(X_test_sd, y_test))"
      ]
    },
    {
      "cell_type": "code",
      "execution_count": 47,
      "metadata": {},
      "outputs": [
        {
          "name": "stderr",
          "output_type": "stream",
          "text": [
            "/Users/malickgaye/opt/anaconda3/lib/python3.8/site-packages/sklearn/linear_model/_sag.py:350: ConvergenceWarning: The max_iter was reached which means the coef_ did not converge\n",
            "  warnings.warn(\n",
            "/Users/malickgaye/opt/anaconda3/lib/python3.8/site-packages/sklearn/linear_model/_sag.py:350: ConvergenceWarning: The max_iter was reached which means the coef_ did not converge\n",
            "  warnings.warn(\n",
            "/Users/malickgaye/opt/anaconda3/lib/python3.8/site-packages/sklearn/linear_model/_sag.py:350: ConvergenceWarning: The max_iter was reached which means the coef_ did not converge\n",
            "  warnings.warn(\n",
            "/Users/malickgaye/opt/anaconda3/lib/python3.8/site-packages/sklearn/linear_model/_sag.py:350: ConvergenceWarning: The max_iter was reached which means the coef_ did not converge\n",
            "  warnings.warn(\n",
            "/Users/malickgaye/opt/anaconda3/lib/python3.8/site-packages/sklearn/linear_model/_sag.py:350: ConvergenceWarning: The max_iter was reached which means the coef_ did not converge\n",
            "  warnings.warn(\n"
          ]
        },
        {
          "name": "stdout",
          "output_type": "stream",
          "text": [
            "best logistic regression param: {'C': 1, 'penalty': 'l2', 'solver': 'liblinear', 'max_iter': 400} validation score: 0.83625 train score: 0.8879166666666667 test score: 0.8516666666666667\n"
          ]
        }
      ],
      "source": [
        "param_grid = [\n",
        "    {'C': 0.01, 'penalty': 'l1', 'solver': 'liblinear', 'max_iter': 300},\n",
        "    {'C': 1, 'penalty': 'l1', 'solver': 'liblinear', 'max_iter': 400},\n",
        "    {'C': 100, 'penalty': 'l1', 'solver': 'liblinear', 'max_iter': 600},\n",
        "    {'C': 0.01, 'penalty': 'l2', 'solver': 'liblinear', 'max_iter': 200},\n",
        "    {'C': 1, 'penalty': 'l2', 'solver': 'liblinear', 'max_iter': 400},\n",
        "    {'C': 100, 'penalty': 'l2', 'solver': 'liblinear', 'max_iter': 600},\n",
        "    {'C': 0.01, 'penalty': 'elasticnet', 'solver': 'saga', 'l1_ratio': 0.5, 'max_iter': 100},\n",
        "    {'C': 1, 'penalty': 'elasticnet', 'solver': 'saga', 'l1_ratio': 0.5, 'max_iter': 400},\n",
        "    {'C': 100, 'penalty': 'elasticnet', 'solver': 'saga', 'l1_ratio': 0.5, 'max_iter': 600},\n",
        "]\n",
        "\n",
        "\n",
        "log_model, val_score, best_param = find_best_model(LogisticRegression, cross_validation, param_grid, X_train, y_train)\n",
        "log_model.fit(X_train_sd, y_train)\n",
        "print(\"best logistic regression param:\", best_param,\n",
        "    \"validation score:\", val_score,\n",
        "      \"train score:\", log_model.score(X_train_sd, y_train),\n",
        "      \"test score:\", log_model.score(X_test_sd, y_test))"
      ]
    },
    {
      "cell_type": "code",
      "execution_count": 48,
      "metadata": {
        "colab": {
          "base_uri": "https://localhost:8080/"
        },
        "id": "a_5PRj667JTr",
        "outputId": "b24df5d7-83e7-4b71-d112-9267cf17dea8"
      },
      "outputs": [
        {
          "name": "stdout",
          "output_type": "stream",
          "text": [
            "max sentence lenngth: 71\n",
            "shape of embedded sentence with padding: (3000, 71, 300)\n",
            "2400 600\n",
            "torch.Size([2400, 300, 71, 1])\n"
          ]
        }
      ],
      "source": [
        "maxSentenceLen = 0\n",
        "for token in tokens:\n",
        "  maxSentenceLen = max(maxSentenceLen, len(token))\n",
        "print(\"max sentence lenngth:\", maxSentenceLen)\n",
        "\n",
        "embedded_sentence_padding = np.array([embedding_sentence(word2vec, sentence_token, maxSentenceLen, True) for sentence_token in tokens])\n",
        "print(\"shape of embedded sentence with padding:\", embedded_sentence_padding.shape)\n",
        "\n",
        "X_train, X_test, y_train, y_test = train_test_split(embedded_sentence_padding, torch.tensor(labels), test_size=0.2, random_state=42)\n",
        "print(len(X_train), len(X_test))\n",
        "\n",
        "'''\n",
        "CNN_sd = Standardizer(X_train)\n",
        "X_train_sd2 = CNN_sd.transform(X_train)\n",
        "X_test_sd2 = CNN_sd.transform(X_test)\n",
        "'''\n",
        "\n",
        "def toCNNData(TrainData):\n",
        "  '''\n",
        "  N : sample number, \n",
        "  L : sentence length after padding, \n",
        "  D : embedding dimension\n",
        "  transform N * L * D to N * D * L * 1, where D is used as channel number\n",
        "  '''\n",
        "  return torch.tensor(TrainData, dtype=torch.float32).unsqueeze(3).permute(0, 2, 1, 3)\n",
        "\n",
        "standardizer_CNN = Standardizer(X_train, axis = (0, 1))\n",
        "X_train_sd2 = toCNNData(standardizer.transform(X_train))\n",
        "X_test_sd2 = toCNNData(standardizer.transform(X_test))\n",
        "\n",
        "\n",
        "print(X_train_sd2.shape)\n"
      ]
    },
    {
      "cell_type": "code",
      "execution_count": 49,
      "metadata": {},
      "outputs": [],
      "source": [
        "class CNN(nn.Module):\n",
        "  \"\"\"\n",
        "  CNN model for hand gesture recognition.\n",
        "  \"\"\"\n",
        "  def __init__(self, L, D):\n",
        "    \"\"\"\n",
        "    Initializes the CNN model layers.\n",
        "    \"\"\"\n",
        "    # input shape: D * L * 1\n",
        "    super(CNN, self).__init__()\n",
        "    self.conv1 = nn.Conv2d(in_channels=D, out_channels=4, kernel_size=(3,1))\n",
        "    self.conv2 = nn.Conv2d(4, 8, kernel_size=(4,1))\n",
        "    self.pool = nn.MaxPool2d(kernel_size=(2,1), stride=2)\n",
        "    self.conv3 = nn.Conv2d(8, 16, kernel_size=(3,1))\n",
        "\n",
        "    self.dropout = nn.Dropout(0.3)\n",
        "    # output shape after conv3: 32 * ((L-2)//2-3) * 1\n",
        "    self.out_shape = ((L-2- 3)//2-2) * 1 * 16\n",
        "    self.fc1 = nn.Linear(self.out_shape, 16)\n",
        "    self.fc2 = nn.Linear(16, 2)\n",
        "\n",
        "  def forward(self, x):\n",
        "    \"\"\"\n",
        "    Forward pass of the CNN model.\n",
        "    \"\"\"\n",
        "    x = F.relu(self.conv1(x))\n",
        "    x = self.dropout(x)\n",
        "    x = F.relu(self.conv2(x))\n",
        "    \n",
        "    x = self.pool(x)\n",
        "    x = F.relu(self.conv3(x))\n",
        "\n",
        "    x = x.view(-1, self.out_shape)\n",
        "    x = self.dropout(x)\n",
        "    x = F.relu(self.fc1(x))\n",
        "    x = self.fc2(x)\n",
        "    return x\n",
        "\n",
        "  def score(self, X, y):\n",
        "    output = self.forward(X)\n",
        "    preds = torch.argmax(output, dim = 1)\n",
        "    return (preds == y).sum() / len(y)"
      ]
    },
    {
      "cell_type": "code",
      "execution_count": 50,
      "metadata": {
        "colab": {
          "base_uri": "https://localhost:8080/"
        },
        "id": "ylFbaCk-t-Qm",
        "outputId": "6bff88a8-7b77-4a2f-e843-e9530ee61159"
      },
      "outputs": [
        {
          "name": "stdout",
          "output_type": "stream",
          "text": [
            "torch.Size([2400, 300, 71, 1])\n",
            "Train score: tensor(0.6954) Test score: tensor(0.6850)\n",
            "Train score: tensor(0.8300) Test score: tensor(0.8100)\n",
            "Train score: tensor(0.8750) Test score: tensor(0.8383)\n",
            "Train score: tensor(0.8946) Test score: tensor(0.8467)\n",
            "Train score: tensor(0.9046) Test score: tensor(0.8567)\n",
            "Train score: tensor(0.9046) Test score: tensor(0.8450)\n",
            "Train score: tensor(0.9267) Test score: tensor(0.8550)\n",
            "Train score: tensor(0.9271) Test score: tensor(0.8650)\n",
            "Train score: tensor(0.9392) Test score: tensor(0.8550)\n",
            "Train score: tensor(0.9438) Test score: tensor(0.8550)\n",
            "Train score: tensor(0.9475) Test score: tensor(0.8567)\n",
            "Train score: tensor(0.9433) Test score: tensor(0.8533)\n",
            "Train score: tensor(0.9596) Test score: tensor(0.8583)\n",
            "Train score: tensor(0.9571) Test score: tensor(0.8500)\n",
            "Train score: tensor(0.9575) Test score: tensor(0.8483)\n"
          ]
        }
      ],
      "source": [
        "from torch import optim\n",
        "import copy\n",
        "from torch.utils.data import DataLoader, TensorDataset\n",
        "\n",
        "train_dataset = TensorDataset(X_train_sd2, y_train)\n",
        "train_loader = DataLoader(train_dataset, batch_size=32, shuffle=True)\n",
        "\n",
        "CNN_model = CNN(maxSentenceLen, word2vec.vector_size)\n",
        "\n",
        "def model_evaluation(model, X_train, y_train, X_test, y_test):\n",
        "  optimizer = optim.Adam(model.parameters(), lr=5e-4)\n",
        "  loss_fn = nn.CrossEntropyLoss()\n",
        "  print(X_train_sd2.shape)\n",
        "\n",
        "  train_scores, test_scores = [], []\n",
        "  for epoch in range(15):\n",
        "    model.train()\n",
        "    for train, label in train_loader:\n",
        "      optimizer.zero_grad()\n",
        "      outputs = CNN_model(train)\n",
        "      loss = loss_fn(outputs, label)\n",
        "      loss.backward()\n",
        "      optimizer.step()\n",
        "\n",
        "    model.eval()\n",
        "    print(\"Train score:\", model.score(X_train, y_train), \"Test score:\", model.score(X_test, y_test))\n",
        "    train_scores += [model.score(X_train, y_train).item()]\n",
        "    test_scores += [model.score(X_test, y_test).item()]\n",
        "\n",
        "  return train_scores, test_scores\n",
        "\n",
        "\n",
        "train_scores, test_scores = model_evaluation(CNN_model, X_train_sd2, y_train, X_test_sd2, y_test)"
      ]
    },
    {
      "cell_type": "markdown",
      "metadata": {},
      "source": [
        "### Transfer Learning from Pre-trained Bert Model"
      ]
    },
    {
      "cell_type": "code",
      "execution_count": 51,
      "metadata": {},
      "outputs": [
        {
          "data": {
            "application/vnd.jupyter.widget-view+json": {
              "model_id": "bfe52044b1ee43e8bd5bafce5cfcd8c2",
              "version_major": 2,
              "version_minor": 0
            },
            "text/plain": [
              "tokenizer_config.json:   0%|          | 0.00/48.0 [00:00<?, ?B/s]"
            ]
          },
          "metadata": {},
          "output_type": "display_data"
        },
        {
          "data": {
            "application/vnd.jupyter.widget-view+json": {
              "model_id": "5fbff99160174880ab91e3e683a8b290",
              "version_major": 2,
              "version_minor": 0
            },
            "text/plain": [
              "vocab.txt:   0%|          | 0.00/232k [00:00<?, ?B/s]"
            ]
          },
          "metadata": {},
          "output_type": "display_data"
        },
        {
          "data": {
            "application/vnd.jupyter.widget-view+json": {
              "model_id": "e6b6a84e950f4ebca9e7f6933f8fc7a3",
              "version_major": 2,
              "version_minor": 0
            },
            "text/plain": [
              "tokenizer.json:   0%|          | 0.00/466k [00:00<?, ?B/s]"
            ]
          },
          "metadata": {},
          "output_type": "display_data"
        },
        {
          "data": {
            "application/vnd.jupyter.widget-view+json": {
              "model_id": "221e2194fc3a47d3b4ea2c5451704c3d",
              "version_major": 2,
              "version_minor": 0
            },
            "text/plain": [
              "config.json:   0%|          | 0.00/570 [00:00<?, ?B/s]"
            ]
          },
          "metadata": {},
          "output_type": "display_data"
        }
      ],
      "source": [
        "train_texts, test_texts, train_labels, test_labels = train_test_split(texts, labels, test_size=0.2, random_state=42)\n",
        "\n",
        "# Initialize the tokenizer\n",
        "tokenizer = BertTokenizer.from_pretrained('bert-base-uncased')\n",
        "\n",
        "# Tokenization for train set\n",
        "train_encodings = tokenizer(train_texts, truncation=True, padding=True, max_length=128, return_tensors='pt')\n",
        "train_input_ids = train_encodings['input_ids']\n",
        "train_attention_mask = train_encodings['attention_mask']\n",
        "train_labels_tensor = torch.tensor(train_labels)\n",
        "\n",
        "# Tokenization for test set\n",
        "test_encodings = tokenizer(test_texts, truncation=True, padding=True, max_length=128, return_tensors='pt')\n",
        "test_input_ids = test_encodings['input_ids']\n",
        "test_attention_mask = test_encodings['attention_mask']\n",
        "test_labels_tensor = torch.tensor(test_labels)\n",
        "\n",
        "# Define PyTorch dataset classes\n",
        "from torch.utils.data import Dataset\n",
        "\n",
        "class CustomDataset(Dataset):\n",
        "    def __init__(self, input_ids, attention_mask, labels):\n",
        "        self.input_ids = input_ids\n",
        "        self.attention_mask = attention_mask\n",
        "        self.labels = labels\n",
        "\n",
        "    def __len__(self):\n",
        "        return len(self.labels)\n",
        "\n",
        "    def __getitem__(self, idx):\n",
        "        return {\n",
        "            'input_ids': self.input_ids[idx],\n",
        "            'attention_mask': self.attention_mask[idx],\n",
        "            'labels': self.labels[idx]\n",
        "        }\n",
        "\n",
        "# Create train and test datasets\n",
        "train_dataset = CustomDataset(train_input_ids, train_attention_mask, train_labels_tensor)\n",
        "test_dataset = CustomDataset(test_input_ids, test_attention_mask, test_labels_tensor)\n"
      ]
    },
    {
      "cell_type": "code",
      "execution_count": 52,
      "metadata": {},
      "outputs": [],
      "source": [
        "from torch.utils.data import DataLoader\n",
        "\n",
        "\n",
        "train_dataloader = DataLoader(train_dataset, batch_size=2, shuffle=True)\n",
        "test_dataloader = DataLoader(test_dataset, batch_size=2, shuffle=False)\n"
      ]
    },
    {
      "cell_type": "code",
      "execution_count": 53,
      "metadata": {},
      "outputs": [],
      "source": [
        "from transformers import BertModel\n",
        "\n",
        "\n",
        "class CustomBERTModel(nn.Module):\n",
        "    def __init__(self, num_labels=2):\n",
        "        super(CustomBERTModel, self).__init__()\n",
        "        self.bert = BertModel.from_pretrained('bert-base-uncased')\n",
        "        \n",
        "        # Freeze the parameters of the pre-trained BERT model\n",
        "        for param in self.bert.parameters():\n",
        "            param.requires_grad = False\n",
        "        \n",
        "        self.classifier = nn.Linear(self.bert.config.hidden_size, num_labels)\n",
        "        \n",
        "    def forward(self, input_ids, attention_mask=None, labels=None):\n",
        "        outputs = self.bert(input_ids, attention_mask=attention_mask)\n",
        "        pooled_output = outputs.pooler_output\n",
        "        logits = self.classifier(pooled_output)\n",
        "        \n",
        "        if labels is not None:\n",
        "            loss_fn = nn.CrossEntropyLoss()\n",
        "            loss = loss_fn(logits.view(-1, self.classifier.out_features), labels.view(-1))\n",
        "            return loss, logits\n",
        "        \n",
        "        return logits\n"
      ]
    },
    {
      "cell_type": "code",
      "execution_count": 54,
      "metadata": {},
      "outputs": [
        {
          "data": {
            "application/vnd.jupyter.widget-view+json": {
              "model_id": "7366bb42f2c5424d8c01ae1f8b887047",
              "version_major": 2,
              "version_minor": 0
            },
            "text/plain": [
              "model.safetensors:   0%|          | 0.00/440M [00:00<?, ?B/s]"
            ]
          },
          "metadata": {},
          "output_type": "display_data"
        }
      ],
      "source": [
        "import torch\n",
        "from torch.optim import Adam\n",
        "from torch import nn\n",
        "\n",
        "bertModel = CustomBERTModel(num_labels=2)\n",
        "optimizer = Adam(bertModel.classifier.parameters(), lr=1e-3)"
      ]
    },
    {
      "cell_type": "code",
      "execution_count": 55,
      "metadata": {},
      "outputs": [],
      "source": [
        "def train(model, dataloader, optimizer, epochs=5):\n",
        "    model.train() \n",
        "    losses = []\n",
        "    for epoch in range(epochs):\n",
        "        total_loss = 0\n",
        "        for batch in dataloader:\n",
        "            optimizer.zero_grad()\n",
        "            input_ids = batch['input_ids']\n",
        "            attention_mask = batch['attention_mask']\n",
        "            labels = batch['labels']\n",
        "            loss, logits = model(input_ids, attention_mask, labels)\n",
        "            loss.backward()\n",
        "            optimizer.step()\n",
        "\n",
        "            total_loss += loss.item()\n",
        "\n",
        "        average_loss = total_loss / len(dataloader)\n",
        "        print(f\"Epoch {epoch + 1}/{epochs}, Loss: {average_loss}\")\n",
        "        losses += [average_loss]\n",
        "\n",
        "    return losses\n"
      ]
    },
    {
      "cell_type": "code",
      "execution_count": 56,
      "metadata": {},
      "outputs": [],
      "source": [
        "def evaluate(model, dataloader):\n",
        "    model.eval() \n",
        "    total_loss = 0\n",
        "    correct_predictions = 0\n",
        "\n",
        "    losses, accuracies = [], []\n",
        "    with torch.no_grad():\n",
        "        for batch in dataloader:\n",
        "            input_ids = batch['input_ids']\n",
        "            attention_mask = batch['attention_mask']\n",
        "            labels = batch['labels']\n",
        "\n",
        "            loss, logits = model(input_ids, attention_mask, labels)\n",
        "            total_loss += loss.item()\n",
        "\n",
        "            # Calculate accuracy\n",
        "            predictions = torch.argmax(logits, dim=1)\n",
        "            correct_predictions += (predictions == labels).sum().item()\n",
        "\n",
        "    average_loss = total_loss / len(dataloader)\n",
        "    accuracy = correct_predictions / len(dataloader.dataset)\n",
        "    print(f\"Test Loss: {average_loss}, Accuracy: {accuracy}\")\n",
        "    losses += [average_loss]\n",
        "    accuracies += [accuracy]\n",
        "\n",
        "    return losses, accuracies\n"
      ]
    },
    {
      "cell_type": "code",
      "execution_count": 58,
      "metadata": {},
      "outputs": [
        {
          "name": "stdout",
          "output_type": "stream",
          "text": [
            "Epoch 1/30, Loss: 0.6488943572280308\n",
            "Epoch 2/30, Loss: 0.5393537078828862\n"
          ]
        }
      ],
      "source": [
        "# Train the model\n",
        "train_loss_bert = train(bertModel, train_dataloader, optimizer, epochs=30)\n",
        "\n",
        "# Evaluate the model on the test dataset\n",
        "evaluation_losses_bert, accuracies_bert = evaluate(bertModel, test_dataloader)\n"
      ]
    },
    {
      "cell_type": "markdown",
      "metadata": {},
      "source": [
        "### Generalizability"
      ]
    },
    {
      "cell_type": "code",
      "execution_count": null,
      "metadata": {},
      "outputs": [
        {
          "name": "stdout",
          "output_type": "stream",
          "text": [
            "200 200\n"
          ]
        }
      ],
      "source": [
        "gen_texts, gen_labels = load_data_from_files(\"generalizability\")\n",
        "print(len(gen_texts), len(gen_labels))"
      ]
    },
    {
      "cell_type": "code",
      "execution_count": null,
      "metadata": {},
      "outputs": [
        {
          "name": "stdout",
          "output_type": "stream",
          "text": [
            "Test Loss: 0.5111124333101906, Accuracy: 0.81\n"
          ]
        }
      ],
      "source": [
        "# Evaluate Transfer Learning Model Generalizability\n",
        "\n",
        "gen_encodings = tokenizer(gen_texts, truncation=True, padding=True, max_length=256, return_tensors='pt')\n",
        "gen_input_ids = gen_encodings['input_ids']\n",
        "gen_attention_mask = gen_encodings['attention_mask']\n",
        "gen_labels_tensor = torch.tensor(gen_labels)\n",
        "gen_dataset = CustomDataset(gen_input_ids, gen_attention_mask, gen_labels_tensor)\n",
        "\n",
        "gen_dataloader = DataLoader(gen_dataset, batch_size=2, shuffle=False)\n",
        "gen_losses_bert, gen_accuracies_bert = evaluate(bertModel, gen_dataloader)"
      ]
    },
    {
      "cell_type": "code",
      "execution_count": 47,
      "metadata": {},
      "outputs": [],
      "source": [
        "# Preprocess for other models\n",
        "\n",
        "gen_texts_clean = [preprocess_text(gen_text) for gen_text in gen_texts]\n",
        "gen_tokens = [word_tokenize(gen_text) for gen_text in gen_texts_clean]\n",
        "embedded_sentence = np.array([embedding_sentence(word2vec, sentence_token) for sentence_token in gen_tokens])\n",
        "gen_X = torch.tensor(embedded_sentence)\n",
        "gen_y = torch.tensor(gen_labels)"
      ]
    },
    {
      "cell_type": "code",
      "execution_count": 52,
      "metadata": {},
      "outputs": [
        {
          "name": "stdout",
          "output_type": "stream",
          "text": [
            "Logistic Regression Accuracy: 0.795\n",
            "SVM Accuracy: 0.8\n"
          ]
        }
      ],
      "source": [
        "# Evaluate Logistic Regression/SVM Generalizability\n",
        "gen_X_sd = standardizer.transform(gen_X)\n",
        "\n",
        "print(\"Logistic Regression Accuracy:\", log_model.score(gen_X_sd, gen_y))\n",
        "print(\"SVM Accuracy:\", svm_model.score(gen_X_sd, gen_y))"
      ]
    },
    {
      "cell_type": "code",
      "execution_count": null,
      "metadata": {},
      "outputs": [],
      "source": [
        "import numpy as np\n",
        "import matplotlib as mpl\n",
        "import matplotlib.pyplot as plt\n",
        "from matplotlib.pyplot import cm\n",
        "from matplotlib import rc,cm\n",
        "from scipy.optimize import curve_fit\n",
        "import math\n",
        "\n",
        "plt.rcParams.update(plt.rcParamsDefault)\n",
        "plt.rcParams['text.usetex'] = True\n",
        "rc('text', usetex=True)\n",
        "rc('font',**{'family':'sans-serif','sans-serif':['Helvetica']})\n",
        "mpl.rcParams['mathtext.fontset'] = 'stix'\n",
        "mpl.rcParams['font.family'] = 'STIXGeneral'\n",
        "\n",
        "# model_dict[model] = [train_data, test_data, generalization_data]\n",
        "def train_evaluate_generalization_visualization(model_dict):\n",
        "    colors = iter(cm.hsv(np.linspace(0.,1.,len(model_dict))))\n",
        "    for model_name, data in model_dict.items():\n",
        "        color = next(colors)\n",
        "        plt.scatter(data[0], data[1], color=color, marker=\"s\", label=rf\"{model_name}\")\n",
        "        plt.scatter(data[0], data[2], color=color, marker=\"x\")"
      ]
    }
  ],
  "metadata": {
    "colab": {
      "provenance": []
    },
    "kernelspec": {
      "display_name": "Python 3",
      "language": "python",
      "name": "python3"
    },
    "language_info": {
      "codemirror_mode": {
        "name": "ipython",
        "version": 3
      },
      "file_extension": ".py",
      "mimetype": "text/x-python",
      "name": "python",
      "nbconvert_exporter": "python",
      "pygments_lexer": "ipython3",
      "version": "3.8.5"
    }
  },
  "nbformat": 4,
  "nbformat_minor": 0
}
